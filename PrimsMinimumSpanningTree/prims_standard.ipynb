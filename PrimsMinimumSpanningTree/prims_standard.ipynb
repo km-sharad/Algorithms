{
 "cells": [
  {
   "cell_type": "markdown",
   "id": "fda3032b-a441-4c06-ac28-de3e53ea6af5",
   "metadata": {},
   "source": [
    "This is a straight-forward implementation of the Prim's algorithm to find the minimum spanning tree (MST). \n",
    "The running time complexity of this algorithm is O(mn); m = # edges, n = #nodes\n",
    "\n",
    "Input files stores edges with cost in the format tail_node, head_node, cost\n",
    "For example, the third line of the edges.txt file is \"2 3 -8874\", indicating that there is an edge connecting vertex #2 and vertex #3 that has cost -8874."
   ]
  },
  {
   "cell_type": "code",
   "execution_count": 14,
   "id": "81416870-7177-4dff-9831-323a31c90fff",
   "metadata": {},
   "outputs": [],
   "source": [
    "adj_lst = {}\n",
    "v = set()\n",
    "e = []\n",
    "\n",
    "edge_file = open('clustering1.txt')\n",
    "\n",
    "for line in edge_file:\n",
    "    edge = line.split(' ')\n",
    "    edge = [int(e) for e in edge]\n",
    "\n",
    "    if(len(edge) == 3):\n",
    "        e.append(tuple(edge))\n",
    "        v.add(edge[0])\n",
    "        v.add(edge[1])\n",
    "\n",
    "        if(edge[0] in adj_lst):\n",
    "            adj_lst[edge[0]].append((edge[0], edge[1], edge[2]))\n",
    "        else:\n",
    "            adj_lst[edge[0]] = [(edge[0], edge[1], edge[2])] \n",
    "\n",
    "        if(edge[1] in adj_lst):\n",
    "            adj_lst[edge[1]].append((edge[1], edge[0], edge[2]))\n",
    "        else:\n",
    "            adj_lst[edge[1]] = [(edge[1], edge[0], edge[2])] "
   ]
  },
  {
   "cell_type": "code",
   "execution_count": 15,
   "id": "f99a23a7-7789-4058-92a5-50c3a10f4682",
   "metadata": {},
   "outputs": [
    {
     "name": "stdout",
     "output_type": "stream",
     "text": [
      "MST cost:  12320\n",
      "# nodes in MST 500\n",
      "# edges in MST 499\n",
      "The execution time is 53708.744000000006 milliseconds\n"
     ]
    }
   ],
   "source": [
    "from datetime import datetime\n",
    "\n",
    "t = [] #stores edges of the MST\n",
    "x = {1} #stores nodes; initialized with node 1\n",
    "total_cost = 0\n",
    "\n",
    "current_time_begin = datetime.now()\n",
    "while(x != v):\n",
    "    edges = []\n",
    "    for node in x:\n",
    "        edges = edges + adj_lst[node]\n",
    "\n",
    "    edges = [z for z in edges if z[1] not in x]\n",
    "    edges = sorted(edges, key= lambda x: x[2])\n",
    "    selected_edge = edges[0]\n",
    "    x.add(selected_edge[1])\n",
    "    t.append((selected_edge[0], selected_edge[1]))\n",
    "    total_cost += selected_edge[2]\n",
    "\n",
    "current_time_end = datetime.now()\n",
    "\n",
    "print('MST cost: ', total_cost)\n",
    "print('# nodes in MST',len(x))\n",
    "print('# edges in MST',len(t))\n",
    "\n",
    "execution_time = (current_time_end - current_time_begin).total_seconds() * 1000\n",
    "print(f\"The execution time is {execution_time} milliseconds\")"
   ]
  },
  {
   "cell_type": "code",
   "execution_count": 16,
   "id": "14114679-cea4-4050-854f-da8d7d80d654",
   "metadata": {},
   "outputs": [
    {
     "name": "stdout",
     "output_type": "stream",
     "text": [
      "mst_standard.html\n"
     ]
    },
    {
     "data": {
      "text/html": [
       "\n",
       "        <iframe\n",
       "            width=\"100%\"\n",
       "            height=\"600px\"\n",
       "            src=\"mst_standard.html\"\n",
       "            frameborder=\"0\"\n",
       "            allowfullscreen\n",
       "            \n",
       "        ></iframe>\n",
       "        "
      ],
      "text/plain": [
       "<IPython.lib.display.IFrame at 0x7fb04b60d420>"
      ]
     },
     "execution_count": 16,
     "metadata": {},
     "output_type": "execute_result"
    }
   ],
   "source": [
    "import networkx as nx\n",
    "import matplotlib.pyplot as plt\n",
    "from pyvis.network import Network\n",
    "\n",
    "G = nx.DiGraph(t)\n",
    "\n",
    "# Add labels to each node\n",
    "for node in G.nodes():\n",
    "    G.nodes[node]['label'] = f'Node {node}' \n",
    "\n",
    "net = Network(notebook=True, cdn_resources='remote')\n",
    "\n",
    "net.set_options(\"\"\"\n",
    "var options = {\n",
    "    \"physics\": {\n",
    "        \"enabled\": true,\n",
    "        \"stabilization\": {\n",
    "            \"enabled\": true,\n",
    "            \"iterations\": 500\n",
    "        },\n",
    "        \"maxVelocity\": 5\n",
    "    }\n",
    "}\n",
    "\"\"\")\n",
    "\n",
    "net.from_nx(G)\n",
    "net.show(\"mst_standard.html\")"
   ]
  }
 ],
 "metadata": {
  "kernelspec": {
   "display_name": "Python 3 (ipykernel)",
   "language": "python",
   "name": "python3"
  },
  "language_info": {
   "codemirror_mode": {
    "name": "ipython",
    "version": 3
   },
   "file_extension": ".py",
   "mimetype": "text/x-python",
   "name": "python",
   "nbconvert_exporter": "python",
   "pygments_lexer": "ipython3",
   "version": "3.10.14"
  }
 },
 "nbformat": 4,
 "nbformat_minor": 5
}
