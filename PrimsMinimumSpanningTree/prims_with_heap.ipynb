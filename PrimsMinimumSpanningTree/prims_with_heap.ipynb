{
 "cells": [
  {
   "cell_type": "markdown",
   "id": "94c255a4-93cf-4562-8882-df1dba29c76c",
   "metadata": {},
   "source": [
    "This is an efficient implementation of the Prim's algorithm to find the minimum spanning tree (MST) that uses Heap data structure. \n",
    "The heap implements a min priority queue and stores the node with (current) min cost to be added to the MST in the next iteration.\n",
    "The running time complexity of this algorithm is O(mlogn); m = # edges, n = #nodes\n",
    "\n",
    "Input files stores edges with cost in the format tail_node, head_node, cost\n",
    "For example, the third line of the edges.txt file is \"2 3 -8874\", indicating that there is an edge connecting vertex #2 and vertex #3 that has cost -8874."
   ]
  },
  {
   "cell_type": "code",
   "execution_count": 56,
   "id": "d2eb7ad2-334d-4d95-9245-a78b38ace7e8",
   "metadata": {},
   "outputs": [],
   "source": [
    "adj_lst = {}\n",
    "\n",
    "edge_file = open('clustering1.txt')\n",
    "\n",
    "for line in edge_file:\n",
    "    edge = line.split(' ')\n",
    "    edge = [int(e) for e in edge]\n",
    "    # print(edge)\n",
    "    if(len(edge) == 3):\n",
    "        if(edge[0] in adj_lst):\n",
    "            adj_lst[edge[0]].append((edge[1], edge[2]))\n",
    "        else:\n",
    "            adj_lst[edge[0]] = [(edge[1], edge[2])] \n",
    "\n",
    "        if(edge[1] in adj_lst):\n",
    "            adj_lst[edge[1]].append((edge[0], edge[2]))\n",
    "        else:\n",
    "            adj_lst[edge[1]] = [(edge[0], edge[2])] "
   ]
  },
  {
   "cell_type": "code",
   "execution_count": 57,
   "id": "08c3d195-d971-4716-80c1-f5c04958a314",
   "metadata": {},
   "outputs": [],
   "source": [
    "def heapify_up(h, i):\n",
    "    if(i == 1):\n",
    "        return\n",
    "        \n",
    "    if(h[i][1] < h[i//2][1]):    #// is floor division\n",
    "        t = h[i//2]\n",
    "        h[i//2] = h[i]\n",
    "        h[i] = t\n",
    "        heapify_up(h, i//2)"
   ]
  },
  {
   "cell_type": "code",
   "execution_count": 58,
   "id": "e342d732-9564-45d6-961d-9139c85a9bc0",
   "metadata": {},
   "outputs": [],
   "source": [
    "def heapify_down(h, i):\n",
    "    if(2*i >= len(h)):\n",
    "    # if(2*i >= len(h) - 1):\n",
    "        return\n",
    "\n",
    "    if(2*i < len(h) - 1):\n",
    "        j = 2*i if(h[2*i][1] < h[2*i + 1][1]) else 2*i + 1\n",
    "        # print('i, j: ', i, j)\n",
    "    elif(2*i == len(h) - 1):\n",
    "        j = 2*i\n",
    "\n",
    "    if(h[i][1] > h[j][1]):\n",
    "        t = h[j]\n",
    "        h[j] = h[i]\n",
    "        h[i] = t\n",
    "        heapify_down(h, j)        "
   ]
  },
  {
   "cell_type": "code",
   "execution_count": 59,
   "id": "5ae86116-bcd6-4f4c-bf11-b4a05bc4594a",
   "metadata": {},
   "outputs": [],
   "source": [
    "def extractMin(h):\n",
    "    m = h[1]\n",
    "    h[1] = h[len(h) - 1]\n",
    "    del h[len(h) - 1]\n",
    "    heapify_down(h,1)\n",
    "    return m"
   ]
  },
  {
   "cell_type": "code",
   "execution_count": 60,
   "id": "055a7162-110f-488a-b761-7e672ef6bc41",
   "metadata": {},
   "outputs": [],
   "source": [
    "def deleteHeapNode(h, w):\n",
    "    # for i in range(1, len(h) - 1):\n",
    "    for i in range(len(h)):\n",
    "        if(h[i][0] == w):\n",
    "            break\n",
    "\n",
    "    deleted_node = h[i]\n",
    "    #use the index i to delete the node and fix the damaged heap\n",
    "    h[i] = h[len(h) - 1]\n",
    "    del h[len(h) - 1]\n",
    "\n",
    "    # last node was deleted; no need to heapify\n",
    "    if(len(h) == i):\n",
    "        return deleted_node\n",
    "    \n",
    "    if(i == 1):\n",
    "        heapify_down(h,i)\n",
    "    elif(h[i][1] < h[i//2][1]):      #// is floor division\n",
    "        heapify_up(h,i)\n",
    "    else:\n",
    "        heapify_down(h, i)\n",
    "\n",
    "    return deleted_node"
   ]
  },
  {
   "cell_type": "code",
   "execution_count": 61,
   "id": "01d2bb7e-4b47-4063-a62c-60b7fcb87bf3",
   "metadata": {},
   "outputs": [],
   "source": [
    "def insertHeapNode(h, node):\n",
    "    h.append(node)\n",
    "    heapify_up(h, len(h) - 1)"
   ]
  },
  {
   "cell_type": "code",
   "execution_count": 62,
   "id": "9773ac8e-7ad5-4dd9-8b02-5eab67e0b35d",
   "metadata": {},
   "outputs": [
    {
     "data": {
      "text/plain": [
       "True"
      ]
     },
     "execution_count": 62,
     "metadata": {},
     "output_type": "execute_result"
    }
   ],
   "source": [
    "def testHeapInv(h):\n",
    "    for i in range(1,len(h)):\n",
    "        break\n",
    "            \n",
    "        try:\n",
    "            if(h[i][1] > h[2*i][1] or h[i][1] > h[2*i + 1][1]):\n",
    "                print('heap damaged at: ', h[i])\n",
    "                return False\n",
    "        except IndexError:\n",
    "            return True\n",
    "\n",
    "    hl = [l[0] for l in h]\n",
    "    s = set([y for y in hl if hl.count(y) > 1])\n",
    "\n",
    "    if(len(s) > 0):\n",
    "        print('heap damaged at node(s): ', s)\n",
    "        return False\n",
    "\n",
    "    return True\n",
    "\n",
    "heap = [(0,0),(1, 4), (6, 7), (7, 7), (8, 10), (9, 16), (10, 8), (11, 11), (12, 15), (2, 17), (3, 20), (4, 17), (5, 15),  (30, 16)]\n",
    "# heap = [(0,0),(1, 4), (6, 7), (7, 7), (8, 10), (9, 16), (10, 8), (11, 110), (12, 15), (2, 17), (3, 20), (4, 17), (5, 15),  (30, 16),(22, 21)]\n",
    "testHeapInv(heap)"
   ]
  },
  {
   "cell_type": "code",
   "execution_count": 63,
   "id": "de3b3d4e-e74f-4e48-afaa-64f25b9fcef5",
   "metadata": {},
   "outputs": [],
   "source": [
    "from functools import reduce\n",
    "all_edges = reduce(lambda xs, ys: xs + ys, adj_lst.values())\n",
    "max_cost = max(list(map(lambda x: x[1], all_edges)))\n",
    "inf_cost = max_cost*2"
   ]
  },
  {
   "cell_type": "code",
   "execution_count": 64,
   "id": "e8cbd689-c392-4624-b006-927ade717ca5",
   "metadata": {},
   "outputs": [],
   "source": [
    "heap = [(0,0,0)] + [(z[0],z[1],1) for z in sorted(adj_lst[1], key = lambda x: x[1])]\n",
    "nodes_not_linked_to_1 = [z for z in list(adj_lst.keys()) if z not in list(map(lambda x: x[0], adj_lst[1])) + [1]]\n",
    "heap = heap + list(map(lambda x: (x, inf_cost, 1), nodes_not_linked_to_1))"
   ]
  },
  {
   "cell_type": "code",
   "execution_count": 65,
   "id": "4572faf9-9d4f-4e40-be40-2cce948faa86",
   "metadata": {
    "scrolled": true
   },
   "outputs": [
    {
     "name": "stdout",
     "output_type": "stream",
     "text": [
      "MST cost (with heap):  12320\n",
      "nodes in MST:  500\n",
      "edges in MST:  499\n",
      "The execution time is 1785.871 milliseconds\n"
     ]
    }
   ],
   "source": [
    "from datetime import datetime\n",
    "\n",
    "cost = 0\n",
    "v = set(list(adj_lst.keys()))\n",
    "x = {1}\n",
    "e = []\n",
    "\n",
    "execution_time_begin = datetime.now()\n",
    "while (x != v):\n",
    "    if(not testHeapInv(heap)):\n",
    "        print('Damaged heap: ', heap)\n",
    "        break\n",
    "    \n",
    "    min = extractMin(heap)\n",
    "    x.add(min[0])\n",
    "    cost += min[1]\n",
    "    e.append((min[0], min[2]))\n",
    "\n",
    "    # print(min[0],min[1])\n",
    "\n",
    "    for w in [z for z in adj_lst[min[0]] if z[0] not in x]:\n",
    "        w_heap = deleteHeapNode(heap, w[0])\n",
    "        if(w[1] < w_heap[1]):\n",
    "            # w_heap = w\n",
    "            w_heap = (w[0], w[1], min[0])\n",
    "        insertHeapNode(heap, w_heap)\n",
    "\n",
    "execution_time_end = datetime.now()\n",
    "\n",
    "print('MST cost (with heap): ', cost)\n",
    "print('nodes in MST: ', len(x))\n",
    "print('edges in MST: ', len(e))\n",
    "\n",
    "execution_time = (execution_time_end - execution_time_begin).total_seconds() * 1000\n",
    "print(f\"The execution time is {execution_time} milliseconds\")"
   ]
  },
  {
   "cell_type": "code",
   "execution_count": 66,
   "id": "a69e0d05-be0e-4fee-967f-828ff47726ab",
   "metadata": {},
   "outputs": [
    {
     "name": "stdout",
     "output_type": "stream",
     "text": [
      "mst_heap.html\n"
     ]
    },
    {
     "data": {
      "text/html": [
       "\n",
       "        <iframe\n",
       "            width=\"100%\"\n",
       "            height=\"600px\"\n",
       "            src=\"mst_heap.html\"\n",
       "            frameborder=\"0\"\n",
       "            allowfullscreen\n",
       "            \n",
       "        ></iframe>\n",
       "        "
      ],
      "text/plain": [
       "<IPython.lib.display.IFrame at 0x7fba30a5eb30>"
      ]
     },
     "execution_count": 66,
     "metadata": {},
     "output_type": "execute_result"
    }
   ],
   "source": [
    "import networkx as nx\n",
    "import matplotlib.pyplot as plt\n",
    "from pyvis.network import Network\n",
    "\n",
    "G_ALL_EDGES = nx.DiGraph(e)\n",
    "\n",
    "# Add labels to each node\n",
    "for node in G_ALL_EDGES.nodes():\n",
    "    G_ALL_EDGES.nodes[node]['label'] = f'Node {node}' \n",
    "\n",
    "net = Network(notebook=True, cdn_resources='remote')\n",
    "\n",
    "net.set_options(\"\"\"\n",
    "var options = {\n",
    "    \"physics\": {\n",
    "        \"enabled\": true,\n",
    "        \"stabilization\": {\n",
    "            \"enabled\": true,\n",
    "            \"iterations\": 500\n",
    "        },\n",
    "        \"maxVelocity\": 20\n",
    "    }\n",
    "}\n",
    "\"\"\")\n",
    "\n",
    "net.from_nx(G_ALL_EDGES)\n",
    "net.show(\"mst_heap.html\")"
   ]
  }
 ],
 "metadata": {
  "kernelspec": {
   "display_name": "Python 3 (ipykernel)",
   "language": "python",
   "name": "python3"
  },
  "language_info": {
   "codemirror_mode": {
    "name": "ipython",
    "version": 3
   },
   "file_extension": ".py",
   "mimetype": "text/x-python",
   "name": "python",
   "nbconvert_exporter": "python",
   "pygments_lexer": "ipython3",
   "version": "3.10.14"
  }
 },
 "nbformat": 4,
 "nbformat_minor": 5
}
